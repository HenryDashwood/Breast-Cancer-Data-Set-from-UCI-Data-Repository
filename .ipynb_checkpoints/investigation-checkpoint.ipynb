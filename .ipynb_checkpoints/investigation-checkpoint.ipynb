{
 "cells": [
  {
   "cell_type": "code",
   "execution_count": 1,
   "metadata": {},
   "outputs": [
    {
     "name": "stderr",
     "output_type": "stream",
     "text": [
      "/anaconda3/envs/py36/lib/python3.6/site-packages/sklearn/ensemble/weight_boosting.py:29: DeprecationWarning: numpy.core.umath_tests is an internal NumPy module and should not be imported. It will be removed in a future NumPy release.\n",
      "  from numpy.core.umath_tests import inner1d\n",
      "/anaconda3/envs/py36/lib/python3.6/site-packages/sklearn/cross_validation.py:41: DeprecationWarning: This module was deprecated in version 0.18 in favor of the model_selection module into which all the refactored classes and functions are moved. Also note that the interface of the new CV iterators are different from that of this module. This module will be removed in 0.20.\n",
      "  \"This module will be removed in 0.20.\", DeprecationWarning)\n",
      "/anaconda3/envs/py36/lib/python3.6/site-packages/sklearn/grid_search.py:42: DeprecationWarning: This module was deprecated in version 0.18 in favor of the model_selection module into which all the refactored classes and functions are moved. This module will be removed in 0.20.\n",
      "  DeprecationWarning)\n"
     ]
    }
   ],
   "source": [
    "import numpy as np\n",
    "import pandas as pd\n",
    "from sklearn.preprocessing import scale\n",
    "from sklearn.model_selection import train_test_split\n",
    "from sklearn.linear_model import LogisticRegression\n",
    "from sklearn.tree import DecisionTreeClassifier\n",
    "from sklearn.metrics import f1_score, fbeta_score, accuracy_score, make_scorer\n",
    "from sklearn.ensemble import AdaBoostClassifier, RandomForestClassifier\n",
    "from sklearn.svm import SVC\n",
    "from sklearn.grid_search import GridSearchCV\n",
    "from sklearn.decomposition import PCA\n",
    "from sklearn.cluster import KMeans\n",
    "import xgboost as xgb\n",
    "from IPython.display import display\n",
    "from time import time\n",
    "import matplotlib.pyplot as plt\n",
    "import matplotlib.patches as mpatches\n",
    "%matplotlib inline\n",
    "import seaborn as sns"
   ]
  },
  {
   "cell_type": "code",
   "execution_count": 2,
   "metadata": {},
   "outputs": [],
   "source": [
    "data = pd.read_excel('BCancer.xls')"
   ]
  },
  {
   "cell_type": "code",
   "execution_count": 3,
   "metadata": {},
   "outputs": [
    {
     "name": "stdout",
     "output_type": "stream",
     "text": [
      "(699, 11)\n"
     ]
    },
    {
     "data": {
      "text/html": [
       "<div>\n",
       "<style scoped>\n",
       "    .dataframe tbody tr th:only-of-type {\n",
       "        vertical-align: middle;\n",
       "    }\n",
       "\n",
       "    .dataframe tbody tr th {\n",
       "        vertical-align: top;\n",
       "    }\n",
       "\n",
       "    .dataframe thead th {\n",
       "        text-align: right;\n",
       "    }\n",
       "</style>\n",
       "<table border=\"1\" class=\"dataframe\">\n",
       "  <thead>\n",
       "    <tr style=\"text-align: right;\">\n",
       "      <th></th>\n",
       "      <th>SampleCode</th>\n",
       "      <th>Thickness</th>\n",
       "      <th>Ucellsize</th>\n",
       "      <th>Ucellshape</th>\n",
       "      <th>MA</th>\n",
       "      <th>Secellsize</th>\n",
       "      <th>BN</th>\n",
       "      <th>BC</th>\n",
       "      <th>NN</th>\n",
       "      <th>Mitoses</th>\n",
       "      <th>Class</th>\n",
       "    </tr>\n",
       "  </thead>\n",
       "  <tbody>\n",
       "    <tr>\n",
       "      <th>0</th>\n",
       "      <td>61634</td>\n",
       "      <td>5</td>\n",
       "      <td>4</td>\n",
       "      <td>3</td>\n",
       "      <td>1</td>\n",
       "      <td>2</td>\n",
       "      <td>0</td>\n",
       "      <td>2</td>\n",
       "      <td>3</td>\n",
       "      <td>1</td>\n",
       "      <td>2</td>\n",
       "    </tr>\n",
       "    <tr>\n",
       "      <th>1</th>\n",
       "      <td>63375</td>\n",
       "      <td>9</td>\n",
       "      <td>1</td>\n",
       "      <td>2</td>\n",
       "      <td>6</td>\n",
       "      <td>4</td>\n",
       "      <td>10</td>\n",
       "      <td>7</td>\n",
       "      <td>7</td>\n",
       "      <td>2</td>\n",
       "      <td>4</td>\n",
       "    </tr>\n",
       "    <tr>\n",
       "      <th>2</th>\n",
       "      <td>76389</td>\n",
       "      <td>10</td>\n",
       "      <td>4</td>\n",
       "      <td>7</td>\n",
       "      <td>2</td>\n",
       "      <td>2</td>\n",
       "      <td>8</td>\n",
       "      <td>6</td>\n",
       "      <td>1</td>\n",
       "      <td>1</td>\n",
       "      <td>4</td>\n",
       "    </tr>\n",
       "    <tr>\n",
       "      <th>3</th>\n",
       "      <td>95719</td>\n",
       "      <td>6</td>\n",
       "      <td>10</td>\n",
       "      <td>10</td>\n",
       "      <td>10</td>\n",
       "      <td>8</td>\n",
       "      <td>10</td>\n",
       "      <td>7</td>\n",
       "      <td>10</td>\n",
       "      <td>7</td>\n",
       "      <td>4</td>\n",
       "    </tr>\n",
       "    <tr>\n",
       "      <th>4</th>\n",
       "      <td>128059</td>\n",
       "      <td>1</td>\n",
       "      <td>1</td>\n",
       "      <td>1</td>\n",
       "      <td>1</td>\n",
       "      <td>2</td>\n",
       "      <td>5</td>\n",
       "      <td>5</td>\n",
       "      <td>1</td>\n",
       "      <td>1</td>\n",
       "      <td>2</td>\n",
       "    </tr>\n",
       "  </tbody>\n",
       "</table>\n",
       "</div>"
      ],
      "text/plain": [
       "   SampleCode  Thickness  Ucellsize  Ucellshape  MA  Secellsize  BN  BC  NN  \\\n",
       "0       61634          5          4           3   1           2   0   2   3   \n",
       "1       63375          9          1           2   6           4  10   7   7   \n",
       "2       76389         10          4           7   2           2   8   6   1   \n",
       "3       95719          6         10          10  10           8  10   7  10   \n",
       "4      128059          1          1           1   1           2   5   5   1   \n",
       "\n",
       "   Mitoses  Class  \n",
       "0        1      2  \n",
       "1        2      4  \n",
       "2        1      4  \n",
       "3        7      4  \n",
       "4        1      2  "
      ]
     },
     "execution_count": 3,
     "metadata": {},
     "output_type": "execute_result"
    }
   ],
   "source": [
    "print(data.shape)\n",
    "\n",
    "data.head()"
   ]
  },
  {
   "cell_type": "code",
   "execution_count": 4,
   "metadata": {},
   "outputs": [
    {
     "data": {
      "text/plain": [
       "SampleCode    0\n",
       "Thickness     0\n",
       "Ucellsize     0\n",
       "Ucellshape    0\n",
       "MA            0\n",
       "Secellsize    0\n",
       "BN            0\n",
       "BC            0\n",
       "NN            0\n",
       "Mitoses       0\n",
       "Class         0\n",
       "dtype: int64"
      ]
     },
     "execution_count": 4,
     "metadata": {},
     "output_type": "execute_result"
    }
   ],
   "source": [
    "data.isnull().sum()"
   ]
  },
  {
   "cell_type": "code",
   "execution_count": 5,
   "metadata": {},
   "outputs": [],
   "source": [
    "def preprocess_data(data):\n",
    "    data = data.drop(columns=[\"SampleCode\"])\n",
    "    data['Class'] = data['Class'].replace([2, 4], [0,1])\n",
    "    \n",
    "    for col in data.columns[:-1]:\n",
    "        data[col] = scale(data[col])\n",
    "    \n",
    "    return data"
   ]
  },
  {
   "cell_type": "code",
   "execution_count": 6,
   "metadata": {},
   "outputs": [
    {
     "name": "stderr",
     "output_type": "stream",
     "text": [
      "/anaconda3/envs/py36/lib/python3.6/site-packages/sklearn/utils/validation.py:475: DataConversionWarning: Data with input dtype int64 was converted to float64 by the scale function.\n",
      "  warnings.warn(msg, DataConversionWarning)\n",
      "/anaconda3/envs/py36/lib/python3.6/site-packages/sklearn/utils/validation.py:475: DataConversionWarning: Data with input dtype int64 was converted to float64 by the scale function.\n",
      "  warnings.warn(msg, DataConversionWarning)\n",
      "/anaconda3/envs/py36/lib/python3.6/site-packages/sklearn/utils/validation.py:475: DataConversionWarning: Data with input dtype int64 was converted to float64 by the scale function.\n",
      "  warnings.warn(msg, DataConversionWarning)\n",
      "/anaconda3/envs/py36/lib/python3.6/site-packages/sklearn/utils/validation.py:475: DataConversionWarning: Data with input dtype int64 was converted to float64 by the scale function.\n",
      "  warnings.warn(msg, DataConversionWarning)\n",
      "/anaconda3/envs/py36/lib/python3.6/site-packages/sklearn/utils/validation.py:475: DataConversionWarning: Data with input dtype int64 was converted to float64 by the scale function.\n",
      "  warnings.warn(msg, DataConversionWarning)\n",
      "/anaconda3/envs/py36/lib/python3.6/site-packages/sklearn/utils/validation.py:475: DataConversionWarning: Data with input dtype int64 was converted to float64 by the scale function.\n",
      "  warnings.warn(msg, DataConversionWarning)\n",
      "/anaconda3/envs/py36/lib/python3.6/site-packages/sklearn/utils/validation.py:475: DataConversionWarning: Data with input dtype int64 was converted to float64 by the scale function.\n",
      "  warnings.warn(msg, DataConversionWarning)\n",
      "/anaconda3/envs/py36/lib/python3.6/site-packages/sklearn/utils/validation.py:475: DataConversionWarning: Data with input dtype int64 was converted to float64 by the scale function.\n",
      "  warnings.warn(msg, DataConversionWarning)\n",
      "/anaconda3/envs/py36/lib/python3.6/site-packages/sklearn/utils/validation.py:475: DataConversionWarning: Data with input dtype int64 was converted to float64 by the scale function.\n",
      "  warnings.warn(msg, DataConversionWarning)\n"
     ]
    }
   ],
   "source": [
    "data = preprocess_data(data)"
   ]
  },
  {
   "cell_type": "code",
   "execution_count": 7,
   "metadata": {},
   "outputs": [
    {
     "data": {
      "text/html": [
       "<div>\n",
       "<style scoped>\n",
       "    .dataframe tbody tr th:only-of-type {\n",
       "        vertical-align: middle;\n",
       "    }\n",
       "\n",
       "    .dataframe tbody tr th {\n",
       "        vertical-align: top;\n",
       "    }\n",
       "\n",
       "    .dataframe thead th {\n",
       "        text-align: right;\n",
       "    }\n",
       "</style>\n",
       "<table border=\"1\" class=\"dataframe\">\n",
       "  <thead>\n",
       "    <tr style=\"text-align: right;\">\n",
       "      <th></th>\n",
       "      <th>Thickness</th>\n",
       "      <th>Ucellsize</th>\n",
       "      <th>Ucellshape</th>\n",
       "      <th>MA</th>\n",
       "      <th>Secellsize</th>\n",
       "      <th>BN</th>\n",
       "      <th>BC</th>\n",
       "      <th>NN</th>\n",
       "      <th>Mitoses</th>\n",
       "      <th>Class</th>\n",
       "    </tr>\n",
       "  </thead>\n",
       "  <tbody>\n",
       "    <tr>\n",
       "      <th>0</th>\n",
       "      <td>0.206936</td>\n",
       "      <td>0.283845</td>\n",
       "      <td>-0.069850</td>\n",
       "      <td>-0.633247</td>\n",
       "      <td>-0.549561</td>\n",
       "      <td>-0.952012</td>\n",
       "      <td>-0.590067</td>\n",
       "      <td>0.043601</td>\n",
       "      <td>-0.343912</td>\n",
       "      <td>0</td>\n",
       "    </tr>\n",
       "    <tr>\n",
       "      <th>1</th>\n",
       "      <td>1.628538</td>\n",
       "      <td>-0.699995</td>\n",
       "      <td>-0.406574</td>\n",
       "      <td>1.119088</td>\n",
       "      <td>0.354305</td>\n",
       "      <td>1.796673</td>\n",
       "      <td>1.461957</td>\n",
       "      <td>1.354454</td>\n",
       "      <td>0.239570</td>\n",
       "      <td>1</td>\n",
       "    </tr>\n",
       "    <tr>\n",
       "      <th>2</th>\n",
       "      <td>1.983939</td>\n",
       "      <td>0.283845</td>\n",
       "      <td>1.277048</td>\n",
       "      <td>-0.282780</td>\n",
       "      <td>-0.549561</td>\n",
       "      <td>1.246936</td>\n",
       "      <td>1.051552</td>\n",
       "      <td>-0.611825</td>\n",
       "      <td>-0.343912</td>\n",
       "      <td>1</td>\n",
       "    </tr>\n",
       "    <tr>\n",
       "      <th>3</th>\n",
       "      <td>0.562336</td>\n",
       "      <td>2.251526</td>\n",
       "      <td>2.287222</td>\n",
       "      <td>2.520955</td>\n",
       "      <td>2.162039</td>\n",
       "      <td>1.796673</td>\n",
       "      <td>1.461957</td>\n",
       "      <td>2.337594</td>\n",
       "      <td>3.156977</td>\n",
       "      <td>1</td>\n",
       "    </tr>\n",
       "    <tr>\n",
       "      <th>4</th>\n",
       "      <td>-1.214667</td>\n",
       "      <td>-0.699995</td>\n",
       "      <td>-0.743299</td>\n",
       "      <td>-0.633247</td>\n",
       "      <td>-0.549561</td>\n",
       "      <td>0.422330</td>\n",
       "      <td>0.641147</td>\n",
       "      <td>-0.611825</td>\n",
       "      <td>-0.343912</td>\n",
       "      <td>0</td>\n",
       "    </tr>\n",
       "  </tbody>\n",
       "</table>\n",
       "</div>"
      ],
      "text/plain": [
       "   Thickness  Ucellsize  Ucellshape        MA  Secellsize        BN        BC  \\\n",
       "0   0.206936   0.283845   -0.069850 -0.633247   -0.549561 -0.952012 -0.590067   \n",
       "1   1.628538  -0.699995   -0.406574  1.119088    0.354305  1.796673  1.461957   \n",
       "2   1.983939   0.283845    1.277048 -0.282780   -0.549561  1.246936  1.051552   \n",
       "3   0.562336   2.251526    2.287222  2.520955    2.162039  1.796673  1.461957   \n",
       "4  -1.214667  -0.699995   -0.743299 -0.633247   -0.549561  0.422330  0.641147   \n",
       "\n",
       "         NN   Mitoses  Class  \n",
       "0  0.043601 -0.343912      0  \n",
       "1  1.354454  0.239570      1  \n",
       "2 -0.611825 -0.343912      1  \n",
       "3  2.337594  3.156977      1  \n",
       "4 -0.611825 -0.343912      0  "
      ]
     },
     "execution_count": 7,
     "metadata": {},
     "output_type": "execute_result"
    }
   ],
   "source": [
    "data.head()"
   ]
  },
  {
   "cell_type": "code",
   "execution_count": 8,
   "metadata": {},
   "outputs": [],
   "source": [
    "y = data['Class']\n",
    "X = data.drop(['Class'], axis=1)"
   ]
  },
  {
   "cell_type": "code",
   "execution_count": 9,
   "metadata": {},
   "outputs": [],
   "source": [
    "# pd.plotting.scatter_matrix(data[['Thickness','Ucellsize','Ucellshape','MA','Secellsize','BN','BC','NN','Mitoses']], figsize=(10,10))"
   ]
  },
  {
   "cell_type": "code",
   "execution_count": 10,
   "metadata": {},
   "outputs": [],
   "source": [
    "X_train, X_test, y_train, y_test = train_test_split(X, y, test_size=0.2)"
   ]
  },
  {
   "cell_type": "code",
   "execution_count": 11,
   "metadata": {},
   "outputs": [],
   "source": [
    "m1 = LogisticRegression()\n",
    "m2 = SVC(kernel='rbf')\n",
    "m3 = DecisionTreeClassifier()\n",
    "m6 = RandomForestClassifier()\n",
    "m4 = AdaBoostClassifier()\n",
    "m5 = xgb.XGBClassifier()"
   ]
  },
  {
   "cell_type": "code",
   "execution_count": 12,
   "metadata": {},
   "outputs": [],
   "source": [
    "def train_predict(learner, X_train, y_train, X_test, y_test): \n",
    "    '''\n",
    "    inputs:\n",
    "       - learner: the learning algorithm to be trained and predicted on\n",
    "       - X_train: features training set\n",
    "       - y_train: income training set\n",
    "       - X_test: features testing set\n",
    "       - y_test: income testing set\n",
    "    '''\n",
    "    \n",
    "    results = {}\n",
    "    \n",
    "    start = time()\n",
    "    learner = learner.fit(X_train, y_train)\n",
    "    end = time()\n",
    "    results['train_time'] = end - start\n",
    "        \n",
    "    start = time()\n",
    "    predictions_test = learner.predict(X_test)\n",
    "    predictions_train = learner.predict(X_train)\n",
    "    end = time()\n",
    "    results['pred_time'] = end - start\n",
    "            \n",
    "    results['acc_train'] = accuracy_score(y_train, predictions_train)\n",
    "    results['acc_test'] = accuracy_score(y_test, predictions_test)\n",
    "    \n",
    "    results['f1_train'] = f1_score(y_train, predictions_train)         \n",
    "    results['f1_test'] = f1_score(y_test, predictions_test)\n",
    "    \n",
    "    results['fbeta_train'] = fbeta_score(y_train, predictions_train, beta=0.5)         \n",
    "    results['fbeta_test'] = fbeta_score(y_test, predictions_test, beta=0.5)\n",
    "               \n",
    "    return results"
   ]
  },
  {
   "cell_type": "code",
   "execution_count": 13,
   "metadata": {},
   "outputs": [
    {
     "name": "stderr",
     "output_type": "stream",
     "text": [
      "/anaconda3/envs/py36/lib/python3.6/site-packages/sklearn/preprocessing/label.py:151: DeprecationWarning: The truth value of an empty array is ambiguous. Returning False, but in future this will result in an error. Use `array.size > 0` to check that an array is not empty.\n",
      "  if diff:\n",
      "/anaconda3/envs/py36/lib/python3.6/site-packages/sklearn/preprocessing/label.py:151: DeprecationWarning: The truth value of an empty array is ambiguous. Returning False, but in future this will result in an error. Use `array.size > 0` to check that an array is not empty.\n",
      "  if diff:\n"
     ]
    }
   ],
   "source": [
    "results = {}\n",
    "for model in [m1,m2,m3,m4,m5,m6]:\n",
    "    model_name = model.__class__.__name__\n",
    "    results[model_name] = {}\n",
    "    results[model_name] = train_predict(model, X_train, y_train, X_test, y_test)"
   ]
  },
  {
   "cell_type": "code",
   "execution_count": 14,
   "metadata": {},
   "outputs": [
    {
     "data": {
      "image/png": "[encoded data removed]",
      "text/plain": [
       "<Figure size 1440x720 with 8 Axes>"
      ]
     },
     "metadata": {
      "needs_background": "light"
     },
     "output_type": "display_data"
    }
   ],
   "source": [
    "fig, ax = plt.subplots(2, 4, figsize=(20,10))\n",
    "\n",
    "bar_width = 0.15\n",
    "colors = ['#A00000','#00A0A0','#00A000','#A0A0A0','#0A0A0A','#AA00AA']\n",
    "\n",
    "for k, learner in enumerate(results.keys()):\n",
    "        for j, metric in enumerate(['train_time','acc_train','f1_train','fbeta_train','pred_time','acc_test','f1_test','fbeta_test']):\n",
    "            for i in np.arange(4):                \n",
    "                ax[j//4, j%4].bar(i+k*bar_width,results[learner][metric],width=bar_width,color=colors[k])\n",
    "                \n",
    "ax[0, 0].set_title(\"Training Time\")\n",
    "ax[0, 1].set_title(\"Training Accuracy\")\n",
    "ax[0, 2].set_title(\"Training F1\")\n",
    "ax[0, 3].set_title(\"Training Fbeta\")\n",
    "ax[1, 0].set_title(\"Predicting Time\")\n",
    "ax[1, 1].set_title(\"Testing Accuracy\")\n",
    "ax[1, 2].set_title(\"Testing F1\")\n",
    "ax[1, 3].set_title(\"Training Fbeta\")\n",
    "\n",
    "patches = []\n",
    "for i, learner in enumerate(results.keys()):\n",
    "    patches.append(mpatches.Patch(color=colors[i],label=learner))\n",
    "    plt.legend(handles=patches,bbox_to_anchor=(-0.8,2.5),loc='upper right',borderaxespad=0,ncol=3,fontsize='x-large')"
   ]
  },
  {
   "cell_type": "code",
   "execution_count": 15,
   "metadata": {},
   "outputs": [],
   "source": [
    "def feature_plot(importances, X_train, y_train):\n",
    "    \n",
    "    # Display the five most important features\n",
    "    indices = np.argsort(importances)[::-1]\n",
    "    columns = X_train.columns.values[indices[:5]]\n",
    "    values = importances[indices][:5]\n",
    "\n",
    "    # Creat the plot\n",
    "    fig = plt.figure(figsize = (9,5))\n",
    "    plt.title(\"Normalized Weights for First Five Most Predictive Features\", fontsize = 16)\n",
    "    plt.bar(np.arange(5), values, width = 0.6, align=\"center\", color = '#00A000', \\\n",
    "          label = \"Feature Weight\")\n",
    "    plt.bar(np.arange(5) - 0.3, np.cumsum(values), width = 0.2, align = \"center\", color = '#00A0A0', \\\n",
    "          label = \"Cumulative Feature Weight\")\n",
    "    plt.xticks(np.arange(5), columns)\n",
    "    plt.xlim((-0.5, 4.5))\n",
    "    plt.ylabel(\"Weight\", fontsize = 12)\n",
    "    plt.xlabel(\"Feature\", fontsize = 12)\n",
    "    \n",
    "    plt.legend(loc = 'upper center')\n",
    "    plt.tight_layout()\n",
    "    plt.show()  "
   ]
  },
  {
   "cell_type": "code",
   "execution_count": 16,
   "metadata": {},
   "outputs": [
    {
     "data": {
      "image/png": "[encoded data removed]",
      "text/plain": [
       "<Figure size 648x360 with 1 Axes>"
      ]
     },
     "metadata": {
      "needs_background": "light"
     },
     "output_type": "display_data"
    }
   ],
   "source": [
    "model = RandomForestClassifier().fit(X_train, y_train)\n",
    "\n",
    "# TODO: Extract the feature importances using .feature_importances_ \n",
    "importances = model.feature_importances_\n",
    "\n",
    "# Plot\n",
    "feature_plot(importances, X_train, y_train)"
   ]
  },
  {
   "cell_type": "markdown",
   "metadata": {},
   "source": [
    "**Principle Component Analysis**"
   ]
  },
  {
   "cell_type": "code",
   "execution_count": 17,
   "metadata": {},
   "outputs": [],
   "source": [
    "pca = PCA()\n",
    "X_pca = pca.fit_transform(X)"
   ]
  },
  {
   "cell_type": "code",
   "execution_count": 18,
   "metadata": {},
   "outputs": [
    {
     "data": {
      "text/plain": [
       "Text(0.5,1,'Explained Variance Per Principal Component')"
      ]
     },
     "execution_count": 18,
     "metadata": {},
     "output_type": "execute_result"
    },
    {
     "data": {
      "image/png": "[encoded data removed]",
      "text/plain": [
       "<Figure size 720x432 with 1 Axes>"
      ]
     },
     "metadata": {
      "needs_background": "light"
     },
     "output_type": "display_data"
    }
   ],
   "source": [
    "# Investigate the variance accounted for by each principal component.\n",
    "\n",
    "num_components=len(pca.explained_variance_ratio_)\n",
    "ind = np.arange(num_components)\n",
    "vals = pca.explained_variance_ratio_\n",
    "\n",
    "plt.figure(figsize=(10, 6))\n",
    "ax = plt.subplot(111)\n",
    "cumvals = np.cumsum(vals)\n",
    "ax.bar(ind, vals)\n",
    "ax.plot(ind, cumvals)\n",
    "for i in range(num_components):\n",
    "    ax.annotate(r\"%s%%\" % ((str(vals[i]*100)[:4])), (ind[i]+0.2, vals[i]), va=\"bottom\", ha=\"center\", fontsize=12)\n",
    "\n",
    "ax.xaxis.set_tick_params(width=0)\n",
    "ax.yaxis.set_tick_params(width=2, length=12)\n",
    "\n",
    "ax.set_xlabel(\"Principal Component\")\n",
    "ax.set_ylabel(\"Variance Explained (%)\")\n",
    "plt.title('Explained Variance Per Principal Component')"
   ]
  },
  {
   "cell_type": "code",
   "execution_count": 19,
   "metadata": {},
   "outputs": [],
   "source": [
    "pca = PCA(n_components=9)\n",
    "X_pca = pca.fit_transform(X)"
   ]
  },
  {
   "cell_type": "markdown",
   "metadata": {},
   "source": [
    "**Clustering**"
   ]
  },
  {
   "cell_type": "code",
   "execution_count": 20,
   "metadata": {},
   "outputs": [],
   "source": [
    "scores = []\n",
    "\n",
    "# Over a number of different cluster counts...\n",
    "for i in range(2,10,1):\n",
    "\n",
    "    # run k-means clustering on the data and...\n",
    "    kmeans = KMeans(n_clusters=i).fit(X)\n",
    "\n",
    "    # compute the average within-cluster distances.    \n",
    "    kmeans_score = np.mean(kmeans.score(X))\n",
    "    scores.append(kmeans_score)"
   ]
  },
  {
   "cell_type": "code",
   "execution_count": 21,
   "metadata": {},
   "outputs": [
    {
     "data": {
      "image/png": "[encoded data removed]",
      "text/plain": [
       "<Figure size 432x288 with 1 Axes>"
      ]
     },
     "metadata": {
      "needs_background": "light"
     },
     "output_type": "display_data"
    }
   ],
   "source": [
    "centers = list(range(2,10,1))\n",
    "\n",
    "plt.plot(centers, scores, linestyle='--', marker='o', color='b');\n",
    "plt.xlabel('K');\n",
    "plt.ylabel('SSE');\n",
    "plt.title('SSE vs. K');"
   ]
  },
  {
   "cell_type": "code",
   "execution_count": 22,
   "metadata": {},
   "outputs": [],
   "source": [
    "kmeans = KMeans(n_clusters=4)\n",
    "kmeans_model = kmeans.fit(X)\n",
    "kmeans_prediction = kmeans_model.predict(X)"
   ]
  },
  {
   "cell_type": "code",
   "execution_count": 23,
   "metadata": {},
   "outputs": [],
   "source": [
    "kmeans_tumour_prediction = kmeans_model.predict(X)"
   ]
  },
  {
   "cell_type": "code",
   "execution_count": 24,
   "metadata": {},
   "outputs": [
    {
     "data": {
      "text/plain": [
       "{0: 8, 1: 96, 2: 104, 3: 33}"
      ]
     },
     "execution_count": 24,
     "metadata": {},
     "output_type": "execute_result"
    }
   ],
   "source": [
    "tumour_count_in_clusters = {0:0,1:0,2:0,3:0}\n",
    "for i in zip(kmeans_tumour_prediction, y):\n",
    "    if i[1] == 1:\n",
    "        tumour_count_in_clusters[i[0]] += 1\n",
    "        \n",
    "tumour_count_in_clusters"
   ]
  },
  {
   "cell_type": "code",
   "execution_count": 25,
   "metadata": {},
   "outputs": [
    {
     "data": {
      "text/plain": [
       "{0: 0.017699115044247787, 1: 0.8888888888888888, 2: 0.9811320754716981, 3: 1.0}"
      ]
     },
     "execution_count": 25,
     "metadata": {},
     "output_type": "execute_result"
    }
   ],
   "source": [
    "for i in tumour_count_in_clusters:\n",
    "    tumour_count_in_clusters[i] /= np.unique(kmeans_tumour_prediction, return_counts=True)[1][i]\n",
    "    \n",
    "tumour_count_in_clusters"
   ]
  },
  {
   "cell_type": "code",
   "execution_count": 26,
   "metadata": {},
   "outputs": [
    {
     "data": {
      "image/png": "[encoded data removed]",
      "text/plain": [
       "<Figure size 432x288 with 1 Axes>"
      ]
     },
     "metadata": {
      "needs_background": "light"
     },
     "output_type": "display_data"
    }
   ],
   "source": [
    "sns.barplot(x=list(tumour_count_in_clusters.keys()),y=list(tumour_count_in_clusters.values()));"
   ]
  },
  {
   "cell_type": "code",
   "execution_count": 27,
   "metadata": {},
   "outputs": [],
   "source": [
    "def plot_scaled_comparison(df_sample, kmeans_pred, cluster):\n",
    "    X = pd.DataFrame.from_dict(\n",
    "        dict(\n",
    "            zip(df_sample.columns, pca.inverse_transform(kmeans.cluster_centers_[cluster]))\n",
    "        ), orient='index').rename(columns={0: 'feature_values'})\n",
    "    \n",
    "    X['feature_values_abs'] = abs(X['feature_values'])\n",
    "    X['feature_values'].plot(kind='barh');\n",
    "    print(X)"
   ]
  },
  {
   "cell_type": "code",
   "execution_count": 28,
   "metadata": {},
   "outputs": [
    {
     "name": "stdout",
     "output_type": "stream",
     "text": [
      "            feature_values  feature_values_abs\n",
      "Thickness         0.270594            0.270594\n",
      "Ucellsize        -0.542211            0.542211\n",
      "Ucellshape        0.135352            0.135352\n",
      "MA               -0.513492            0.513492\n",
      "Secellsize       -1.003989            1.003989\n",
      "BN                0.812678            0.812678\n",
      "BC               -0.471399            0.471399\n",
      "NN                0.111560            0.111560\n",
      "Mitoses          -0.404342            0.404342\n"
     ]
    },
    {
     "data": {
      "image/png": "[encoded data removed]",
      "text/plain": [
       "<Figure size 432x288 with 1 Axes>"
      ]
     },
     "metadata": {
      "needs_background": "light"
     },
     "output_type": "display_data"
    }
   ],
   "source": [
    "plot_scaled_comparison(X, kmeans_tumour_prediction, 0)"
   ]
  },
  {
   "cell_type": "code",
   "execution_count": 29,
   "metadata": {},
   "outputs": [
    {
     "name": "stdout",
     "output_type": "stream",
     "text": [
      "            feature_values  feature_values_abs\n",
      "Thickness         0.048183            0.048183\n",
      "Ucellsize         0.646042            0.646042\n",
      "Ucellshape        0.336212            0.336212\n",
      "MA                1.038364            1.038364\n",
      "Secellsize        0.872428            0.872428\n",
      "BN               -1.074370            1.074370\n",
      "BC                0.472363            0.472363\n",
      "NN                0.048719            0.048719\n",
      "Mitoses           0.325960            0.325960\n"
     ]
    },
    {
     "data": {
      "image/png": "[encoded data removed]",
      "text/plain": [
       "<Figure size 432x288 with 1 Axes>"
      ]
     },
     "metadata": {
      "needs_background": "light"
     },
     "output_type": "display_data"
    }
   ],
   "source": [
    "plot_scaled_comparison(X, kmeans_tumour_prediction, 1)"
   ]
  },
  {
   "cell_type": "code",
   "execution_count": 30,
   "metadata": {},
   "outputs": [
    {
     "name": "stdout",
     "output_type": "stream",
     "text": [
      "            feature_values  feature_values_abs\n",
      "Thickness        -0.879814            0.879814\n",
      "Ucellsize         0.544454            0.544454\n",
      "Ucellshape       -0.130862            0.130862\n",
      "MA                0.880553            0.880553\n",
      "Secellsize        2.507155            2.507155\n",
      "BN               -1.823110            1.823110\n",
      "BC                1.238790            1.238790\n",
      "NN               -0.397706            0.397706\n",
      "Mitoses           1.078005            1.078005\n"
     ]
    },
    {
     "data": {
      "image/png": "[encoded data removed]",
      "text/plain": [
       "<Figure size 432x288 with 1 Axes>"
      ]
     },
     "metadata": {
      "needs_background": "light"
     },
     "output_type": "display_data"
    }
   ],
   "source": [
    "plot_scaled_comparison(X, kmeans_tumour_prediction, 2)"
   ]
  },
  {
   "cell_type": "code",
   "execution_count": 31,
   "metadata": {},
   "outputs": [
    {
     "name": "stdout",
     "output_type": "stream",
     "text": [
      "            feature_values  feature_values_abs\n",
      "Thickness        -1.037946            1.037946\n",
      "Ucellsize         3.563482            3.563482\n",
      "Ucellshape       -2.533901            2.533901\n",
      "MA                0.806554            0.806554\n",
      "Secellsize        2.843102            2.843102\n",
      "BN               -1.759051            1.759051\n",
      "BC                0.931685            0.931685\n",
      "NN               -0.410001            0.410001\n",
      "Mitoses           1.008797            1.008797\n"
     ]
    },
    {
     "data": {
      "image/png": "[encoded data removed]",
      "text/plain": [
       "<Figure size 432x288 with 1 Axes>"
      ]
     },
     "metadata": {
      "needs_background": "light"
     },
     "output_type": "display_data"
    }
   ],
   "source": [
    "plot_scaled_comparison(X, kmeans_tumour_prediction, 3)"
   ]
  },
  {
   "cell_type": "code",
   "execution_count": 32,
   "metadata": {},
   "outputs": [
    {
     "data": {
      "text/html": [
       "<div>\n",
       "<style scoped>\n",
       "    .dataframe tbody tr th:only-of-type {\n",
       "        vertical-align: middle;\n",
       "    }\n",
       "\n",
       "    .dataframe tbody tr th {\n",
       "        vertical-align: top;\n",
       "    }\n",
       "\n",
       "    .dataframe thead th {\n",
       "        text-align: right;\n",
       "    }\n",
       "</style>\n",
       "<table border=\"1\" class=\"dataframe\">\n",
       "  <thead>\n",
       "    <tr style=\"text-align: right;\">\n",
       "      <th></th>\n",
       "      <th>cluster 0</th>\n",
       "      <th>cluster 1</th>\n",
       "      <th>cluster 2</th>\n",
       "      <th>cluster 3</th>\n",
       "    </tr>\n",
       "  </thead>\n",
       "  <tbody>\n",
       "    <tr>\n",
       "      <th>Thickness</th>\n",
       "      <td>0.270594</td>\n",
       "      <td>0.048183</td>\n",
       "      <td>-0.879814</td>\n",
       "      <td>-1.037946</td>\n",
       "    </tr>\n",
       "    <tr>\n",
       "      <th>Ucellsize</th>\n",
       "      <td>-0.542211</td>\n",
       "      <td>0.646042</td>\n",
       "      <td>0.544454</td>\n",
       "      <td>3.563482</td>\n",
       "    </tr>\n",
       "    <tr>\n",
       "      <th>Ucellshape</th>\n",
       "      <td>0.135352</td>\n",
       "      <td>0.336212</td>\n",
       "      <td>-0.130862</td>\n",
       "      <td>-2.533901</td>\n",
       "    </tr>\n",
       "    <tr>\n",
       "      <th>MA</th>\n",
       "      <td>-0.513492</td>\n",
       "      <td>1.038364</td>\n",
       "      <td>0.880553</td>\n",
       "      <td>0.806554</td>\n",
       "    </tr>\n",
       "    <tr>\n",
       "      <th>Secellsize</th>\n",
       "      <td>-1.003989</td>\n",
       "      <td>0.872428</td>\n",
       "      <td>2.507155</td>\n",
       "      <td>2.843102</td>\n",
       "    </tr>\n",
       "    <tr>\n",
       "      <th>BN</th>\n",
       "      <td>0.812678</td>\n",
       "      <td>-1.074370</td>\n",
       "      <td>-1.823110</td>\n",
       "      <td>-1.759051</td>\n",
       "    </tr>\n",
       "    <tr>\n",
       "      <th>BC</th>\n",
       "      <td>-0.471399</td>\n",
       "      <td>0.472363</td>\n",
       "      <td>1.238790</td>\n",
       "      <td>0.931685</td>\n",
       "    </tr>\n",
       "    <tr>\n",
       "      <th>NN</th>\n",
       "      <td>0.111560</td>\n",
       "      <td>0.048719</td>\n",
       "      <td>-0.397706</td>\n",
       "      <td>-0.410001</td>\n",
       "    </tr>\n",
       "    <tr>\n",
       "      <th>Mitoses</th>\n",
       "      <td>-0.404342</td>\n",
       "      <td>0.325960</td>\n",
       "      <td>1.078005</td>\n",
       "      <td>1.008797</td>\n",
       "    </tr>\n",
       "  </tbody>\n",
       "</table>\n",
       "</div>"
      ],
      "text/plain": [
       "            cluster 0  cluster 1  cluster 2  cluster 3\n",
       "Thickness    0.270594   0.048183  -0.879814  -1.037946\n",
       "Ucellsize   -0.542211   0.646042   0.544454   3.563482\n",
       "Ucellshape   0.135352   0.336212  -0.130862  -2.533901\n",
       "MA          -0.513492   1.038364   0.880553   0.806554\n",
       "Secellsize  -1.003989   0.872428   2.507155   2.843102\n",
       "BN           0.812678  -1.074370  -1.823110  -1.759051\n",
       "BC          -0.471399   0.472363   1.238790   0.931685\n",
       "NN           0.111560   0.048719  -0.397706  -0.410001\n",
       "Mitoses     -0.404342   0.325960   1.078005   1.008797"
      ]
     },
     "execution_count": 32,
     "metadata": {},
     "output_type": "execute_result"
    }
   ],
   "source": [
    "d = {\n",
    "    'cluster 0' : pd.Series(pca.inverse_transform(kmeans.cluster_centers_[0]), X.columns),\n",
    "    'cluster 1' : pd.Series(pca.inverse_transform(kmeans.cluster_centers_[1]), X.columns),\n",
    "    'cluster 2' : pd.Series(pca.inverse_transform(kmeans.cluster_centers_[2]), X.columns),\n",
    "    'cluster 3' : pd.Series(pca.inverse_transform(kmeans.cluster_centers_[3]), X.columns),\n",
    "}\n",
    "test = pd.DataFrame(d)\n",
    "test"
   ]
  },
  {
   "cell_type": "code",
   "execution_count": 48,
   "metadata": {},
   "outputs": [
    {
     "data": {
      "image/png": "[encoded data removed]",
      "text/plain": [
       "<Figure size 1080x360 with 1 Axes>"
      ]
     },
     "metadata": {
      "needs_background": "light"
     },
     "output_type": "display_data"
    }
   ],
   "source": [
    "n_groups = len(X.columns) # 9\n",
    "fig, ax = plt.subplots(figsize=(15,5))\n",
    "index = np.arange(n_groups)\n",
    "bar_width = 0.2\n",
    " \n",
    "rects0 = plt.bar(index, test['cluster 0'], bar_width, color='b', label='Cluster 0')\n",
    " \n",
    "rects1 = plt.bar(index + bar_width, test['cluster 1'], bar_width, color='g', label='Cluster 1')\n",
    "\n",
    "rects2 = plt.bar(index + bar_width * 2, test['cluster 2'], bar_width, color='r', label='Cluster 2')\n",
    "\n",
    "rects3 = plt.bar(index + bar_width * 3, test['cluster 3'], bar_width, color='y', label='Cluster 3')\n",
    " \n",
    "plt.xlabel('Features', fontweight='bold')\n",
    "plt.ylabel('Over/Underrepresentation', fontweight='bold')\n",
    "plt.xticks(index + bar_width * 2, X.columns)\n",
    "plt.legend()\n",
    " \n",
    "plt.show()"
   ]
  },
  {
   "cell_type": "code",
   "execution_count": 49,
   "metadata": {},
   "outputs": [],
   "source": [
    "# Rename columns so they make more sense \n",
    "# Put some code into functions\n",
    "# Write up the story"
   ]
  },
  {
   "cell_type": "code",
   "execution_count": null,
   "metadata": {},
   "outputs": [],
   "source": []
  }
 ],
 "metadata": {
  "kernelspec": {
   "display_name": "Python 3",
   "language": "python",
   "name": "python3"
  },
  "language_info": {
   "codemirror_mode": {
    "name": "ipython",
    "version": 3
   },
   "file_extension": ".py",
   "mimetype": "text/x-python",
   "name": "python",
   "nbconvert_exporter": "python",
   "pygments_lexer": "ipython3",
   "version": "3.6.6"
  }
 },
 "nbformat": 4,
 "nbformat_minor": 2
}

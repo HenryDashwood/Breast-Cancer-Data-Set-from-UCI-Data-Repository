{
 "cells": [
  {
   "cell_type": "code",
   "execution_count": 141,
   "metadata": {},
   "outputs": [],
   "source": [
    "import numpy as np\n",
    "import pandas as pd\n",
    "from sklearn.preprocessing import scale\n",
    "from sklearn.model_selection import train_test_split\n",
    "from sklearn.linear_model import LogisticRegression\n",
    "from sklearn.tree import DecisionTreeClassifier\n",
    "from sklearn.metrics import f1_score, fbeta_score, accuracy_score, make_scorer\n",
    "from sklearn.ensemble import AdaBoostClassifier, RandomForestClassifier\n",
    "from sklearn.svm import SVC\n",
    "from sklearn.grid_search import GridSearchCV\n",
    "import xgboost as xgb\n",
    "from IPython.display import display\n",
    "from time import time\n",
    "import matplotlib.pyplot as plt\n",
    "import matplotlib.patches as mpatches\n",
    "%matplotlib inline"
   ]
  },
  {
   "cell_type": "code",
   "execution_count": 119,
   "metadata": {},
   "outputs": [],
   "source": [
    "data = pd.read_excel('BCancer.xls')"
   ]
  },
  {
   "cell_type": "code",
   "execution_count": 120,
   "metadata": {},
   "outputs": [
    {
     "name": "stdout",
     "output_type": "stream",
     "text": [
      "(699, 11)\n"
     ]
    },
    {
     "data": {
      "text/html": [
       "<div>\n",
       "<style scoped>\n",
       "    .dataframe tbody tr th:only-of-type {\n",
       "        vertical-align: middle;\n",
       "    }\n",
       "\n",
       "    .dataframe tbody tr th {\n",
       "        vertical-align: top;\n",
       "    }\n",
       "\n",
       "    .dataframe thead th {\n",
       "        text-align: right;\n",
       "    }\n",
       "</style>\n",
       "<table border=\"1\" class=\"dataframe\">\n",
       "  <thead>\n",
       "    <tr style=\"text-align: right;\">\n",
       "      <th></th>\n",
       "      <th>SampleCode</th>\n",
       "      <th>Thickness</th>\n",
       "      <th>Ucellsize</th>\n",
       "      <th>Ucellshape</th>\n",
       "      <th>MA</th>\n",
       "      <th>Secellsize</th>\n",
       "      <th>BN</th>\n",
       "      <th>BC</th>\n",
       "      <th>NN</th>\n",
       "      <th>Mitoses</th>\n",
       "      <th>Class</th>\n",
       "    </tr>\n",
       "  </thead>\n",
       "  <tbody>\n",
       "    <tr>\n",
       "      <th>0</th>\n",
       "      <td>61634</td>\n",
       "      <td>5</td>\n",
       "      <td>4</td>\n",
       "      <td>3</td>\n",
       "      <td>1</td>\n",
       "      <td>2</td>\n",
       "      <td>0</td>\n",
       "      <td>2</td>\n",
       "      <td>3</td>\n",
       "      <td>1</td>\n",
       "      <td>2</td>\n",
       "    </tr>\n",
       "    <tr>\n",
       "      <th>1</th>\n",
       "      <td>63375</td>\n",
       "      <td>9</td>\n",
       "      <td>1</td>\n",
       "      <td>2</td>\n",
       "      <td>6</td>\n",
       "      <td>4</td>\n",
       "      <td>10</td>\n",
       "      <td>7</td>\n",
       "      <td>7</td>\n",
       "      <td>2</td>\n",
       "      <td>4</td>\n",
       "    </tr>\n",
       "    <tr>\n",
       "      <th>2</th>\n",
       "      <td>76389</td>\n",
       "      <td>10</td>\n",
       "      <td>4</td>\n",
       "      <td>7</td>\n",
       "      <td>2</td>\n",
       "      <td>2</td>\n",
       "      <td>8</td>\n",
       "      <td>6</td>\n",
       "      <td>1</td>\n",
       "      <td>1</td>\n",
       "      <td>4</td>\n",
       "    </tr>\n",
       "    <tr>\n",
       "      <th>3</th>\n",
       "      <td>95719</td>\n",
       "      <td>6</td>\n",
       "      <td>10</td>\n",
       "      <td>10</td>\n",
       "      <td>10</td>\n",
       "      <td>8</td>\n",
       "      <td>10</td>\n",
       "      <td>7</td>\n",
       "      <td>10</td>\n",
       "      <td>7</td>\n",
       "      <td>4</td>\n",
       "    </tr>\n",
       "    <tr>\n",
       "      <th>4</th>\n",
       "      <td>128059</td>\n",
       "      <td>1</td>\n",
       "      <td>1</td>\n",
       "      <td>1</td>\n",
       "      <td>1</td>\n",
       "      <td>2</td>\n",
       "      <td>5</td>\n",
       "      <td>5</td>\n",
       "      <td>1</td>\n",
       "      <td>1</td>\n",
       "      <td>2</td>\n",
       "    </tr>\n",
       "  </tbody>\n",
       "</table>\n",
       "</div>"
      ],
      "text/plain": [
       "   SampleCode  Thickness  Ucellsize  Ucellshape  MA  Secellsize  BN  BC  NN  \\\n",
       "0       61634          5          4           3   1           2   0   2   3   \n",
       "1       63375          9          1           2   6           4  10   7   7   \n",
       "2       76389         10          4           7   2           2   8   6   1   \n",
       "3       95719          6         10          10  10           8  10   7  10   \n",
       "4      128059          1          1           1   1           2   5   5   1   \n",
       "\n",
       "   Mitoses  Class  \n",
       "0        1      2  \n",
       "1        2      4  \n",
       "2        1      4  \n",
       "3        7      4  \n",
       "4        1      2  "
      ]
     },
     "execution_count": 120,
     "metadata": {},
     "output_type": "execute_result"
    }
   ],
   "source": [
    "print(data.shape)\n",
    "\n",
    "data.head()"
   ]
  },
  {
   "cell_type": "code",
   "execution_count": 121,
   "metadata": {},
   "outputs": [
    {
     "data": {
      "text/plain": [
       "SampleCode    0\n",
       "Thickness     0\n",
       "Ucellsize     0\n",
       "Ucellshape    0\n",
       "MA            0\n",
       "Secellsize    0\n",
       "BN            0\n",
       "BC            0\n",
       "NN            0\n",
       "Mitoses       0\n",
       "Class         0\n",
       "dtype: int64"
      ]
     },
     "execution_count": 121,
     "metadata": {},
     "output_type": "execute_result"
    }
   ],
   "source": [
    "data.isnull().sum()"
   ]
  },
  {
   "cell_type": "code",
   "execution_count": 122,
   "metadata": {},
   "outputs": [],
   "source": [
    "def preprocess_data(data):\n",
    "    data = data.drop(columns=[\"SampleCode\"])\n",
    "    data['Class'] = data['Class'].replace([2, 4], [0,1])\n",
    "    \n",
    "    for col in data.columns[:-1]:\n",
    "        data[col] = scale(data[col])\n",
    "    \n",
    "    return data"
   ]
  },
  {
   "cell_type": "code",
   "execution_count": 123,
   "metadata": {},
   "outputs": [
    {
     "name": "stderr",
     "output_type": "stream",
     "text": [
      "/anaconda3/envs/py36/lib/python3.6/site-packages/sklearn/utils/validation.py:475: DataConversionWarning: Data with input dtype int64 was converted to float64 by the scale function.\n",
      "  warnings.warn(msg, DataConversionWarning)\n"
     ]
    }
   ],
   "source": [
    "data = preprocess_data(data)"
   ]
  },
  {
   "cell_type": "code",
   "execution_count": 124,
   "metadata": {},
   "outputs": [
    {
     "data": {
      "text/html": [
       "<div>\n",
       "<style scoped>\n",
       "    .dataframe tbody tr th:only-of-type {\n",
       "        vertical-align: middle;\n",
       "    }\n",
       "\n",
       "    .dataframe tbody tr th {\n",
       "        vertical-align: top;\n",
       "    }\n",
       "\n",
       "    .dataframe thead th {\n",
       "        text-align: right;\n",
       "    }\n",
       "</style>\n",
       "<table border=\"1\" class=\"dataframe\">\n",
       "  <thead>\n",
       "    <tr style=\"text-align: right;\">\n",
       "      <th></th>\n",
       "      <th>Thickness</th>\n",
       "      <th>Ucellsize</th>\n",
       "      <th>Ucellshape</th>\n",
       "      <th>MA</th>\n",
       "      <th>Secellsize</th>\n",
       "      <th>BN</th>\n",
       "      <th>BC</th>\n",
       "      <th>NN</th>\n",
       "      <th>Mitoses</th>\n",
       "      <th>Class</th>\n",
       "    </tr>\n",
       "  </thead>\n",
       "  <tbody>\n",
       "    <tr>\n",
       "      <th>0</th>\n",
       "      <td>0.206936</td>\n",
       "      <td>0.283845</td>\n",
       "      <td>-0.069850</td>\n",
       "      <td>-0.633247</td>\n",
       "      <td>-0.549561</td>\n",
       "      <td>-0.952012</td>\n",
       "      <td>-0.590067</td>\n",
       "      <td>0.043601</td>\n",
       "      <td>-0.343912</td>\n",
       "      <td>0</td>\n",
       "    </tr>\n",
       "    <tr>\n",
       "      <th>1</th>\n",
       "      <td>1.628538</td>\n",
       "      <td>-0.699995</td>\n",
       "      <td>-0.406574</td>\n",
       "      <td>1.119088</td>\n",
       "      <td>0.354305</td>\n",
       "      <td>1.796673</td>\n",
       "      <td>1.461957</td>\n",
       "      <td>1.354454</td>\n",
       "      <td>0.239570</td>\n",
       "      <td>1</td>\n",
       "    </tr>\n",
       "    <tr>\n",
       "      <th>2</th>\n",
       "      <td>1.983939</td>\n",
       "      <td>0.283845</td>\n",
       "      <td>1.277048</td>\n",
       "      <td>-0.282780</td>\n",
       "      <td>-0.549561</td>\n",
       "      <td>1.246936</td>\n",
       "      <td>1.051552</td>\n",
       "      <td>-0.611825</td>\n",
       "      <td>-0.343912</td>\n",
       "      <td>1</td>\n",
       "    </tr>\n",
       "    <tr>\n",
       "      <th>3</th>\n",
       "      <td>0.562336</td>\n",
       "      <td>2.251526</td>\n",
       "      <td>2.287222</td>\n",
       "      <td>2.520955</td>\n",
       "      <td>2.162039</td>\n",
       "      <td>1.796673</td>\n",
       "      <td>1.461957</td>\n",
       "      <td>2.337594</td>\n",
       "      <td>3.156977</td>\n",
       "      <td>1</td>\n",
       "    </tr>\n",
       "    <tr>\n",
       "      <th>4</th>\n",
       "      <td>-1.214667</td>\n",
       "      <td>-0.699995</td>\n",
       "      <td>-0.743299</td>\n",
       "      <td>-0.633247</td>\n",
       "      <td>-0.549561</td>\n",
       "      <td>0.422330</td>\n",
       "      <td>0.641147</td>\n",
       "      <td>-0.611825</td>\n",
       "      <td>-0.343912</td>\n",
       "      <td>0</td>\n",
       "    </tr>\n",
       "  </tbody>\n",
       "</table>\n",
       "</div>"
      ],
      "text/plain": [
       "   Thickness  Ucellsize  Ucellshape        MA  Secellsize        BN        BC  \\\n",
       "0   0.206936   0.283845   -0.069850 -0.633247   -0.549561 -0.952012 -0.590067   \n",
       "1   1.628538  -0.699995   -0.406574  1.119088    0.354305  1.796673  1.461957   \n",
       "2   1.983939   0.283845    1.277048 -0.282780   -0.549561  1.246936  1.051552   \n",
       "3   0.562336   2.251526    2.287222  2.520955    2.162039  1.796673  1.461957   \n",
       "4  -1.214667  -0.699995   -0.743299 -0.633247   -0.549561  0.422330  0.641147   \n",
       "\n",
       "         NN   Mitoses  Class  \n",
       "0  0.043601 -0.343912      0  \n",
       "1  1.354454  0.239570      1  \n",
       "2 -0.611825 -0.343912      1  \n",
       "3  2.337594  3.156977      1  \n",
       "4 -0.611825 -0.343912      0  "
      ]
     },
     "execution_count": 124,
     "metadata": {},
     "output_type": "execute_result"
    }
   ],
   "source": [
    "data.head()"
   ]
  },
  {
   "cell_type": "code",
   "execution_count": 125,
   "metadata": {},
   "outputs": [],
   "source": [
    "y = data['Class']\n",
    "X = data.drop(['Class'], axis=1)"
   ]
  },
  {
   "cell_type": "code",
   "execution_count": 126,
   "metadata": {},
   "outputs": [],
   "source": [
    "# pd.plotting.scatter_matrix(data[['Thickness','Ucellsize','Ucellshape','MA','Secellsize','BN','BC','NN','Mitoses']], figsize=(10,10))"
   ]
  },
  {
   "cell_type": "code",
   "execution_count": 150,
   "metadata": {},
   "outputs": [],
   "source": [
    "X_train, X_test, y_train, y_test = train_test_split(X, y, test_size=0.2)"
   ]
  },
  {
   "cell_type": "code",
   "execution_count": 151,
   "metadata": {},
   "outputs": [],
   "source": [
    "m1 = LogisticRegression()\n",
    "m2 = SVC(kernel='rbf')\n",
    "m3 = DecisionTreeClassifier()\n",
    "m6 = RandomForestClassifier()\n",
    "m4 = AdaBoostClassifier()\n",
    "m5 = xgb.XGBClassifier()"
   ]
  },
  {
   "cell_type": "code",
   "execution_count": 152,
   "metadata": {},
   "outputs": [],
   "source": [
    "def train_predict(learner, X_train, y_train, X_test, y_test): \n",
    "    '''\n",
    "    inputs:\n",
    "       - learner: the learning algorithm to be trained and predicted on\n",
    "       - X_train: features training set\n",
    "       - y_train: income training set\n",
    "       - X_test: features testing set\n",
    "       - y_test: income testing set\n",
    "    '''\n",
    "    \n",
    "    results = {}\n",
    "    \n",
    "    start = time()\n",
    "    learner = learner.fit(X_train, y_train)\n",
    "    end = time()\n",
    "    results['train_time'] = end - start\n",
    "        \n",
    "    start = time()\n",
    "    predictions_test = learner.predict(X_test)\n",
    "    predictions_train = learner.predict(X_train)\n",
    "    end = time()\n",
    "    results['pred_time'] = end - start\n",
    "            \n",
    "    results['acc_train'] = accuracy_score(y_train, predictions_train)\n",
    "    results['acc_test'] = accuracy_score(y_test, predictions_test)\n",
    "    \n",
    "    results['f1_train'] = f1_score(y_train, predictions_train)         \n",
    "    results['f1_test'] = f1_score(y_test, predictions_test)\n",
    "    \n",
    "    results['fbeta_train'] = fbeta_score(y_train, predictions_train, beta=0.5)         \n",
    "    results['fbeta_test'] = fbeta_score(y_test, predictions_test, beta=0.5)\n",
    "               \n",
    "    return results"
   ]
  },
  {
   "cell_type": "code",
   "execution_count": 153,
   "metadata": {},
   "outputs": [
    {
     "name": "stdout",
     "output_type": "stream",
     "text": [
      "{'LogisticRegression': {'train_time': 0.003156900405883789, 'pred_time': 0.0007328987121582031, 'acc_train': 0.9713774597495528, 'acc_test': 0.95, 'f1_train': 0.9581151832460733, 'f1_test': 0.9292929292929293, 'fbeta_train': 0.9611344537815126, 'fbeta_test': 0.9236947791164658}}\n",
      "{'LogisticRegression': {'train_time': 0.003156900405883789, 'pred_time': 0.0007328987121582031, 'acc_train': 0.9713774597495528, 'acc_test': 0.95, 'f1_train': 0.9581151832460733, 'f1_test': 0.9292929292929293, 'fbeta_train': 0.9611344537815126, 'fbeta_test': 0.9236947791164658}, 'SVC': {'train_time': 0.004296779632568359, 'pred_time': 0.0033578872680664062, 'acc_train': 0.9803220035778175, 'acc_test': 0.9571428571428572, 'f1_train': 0.9717223650385605, 'f1_test': 0.9400000000000001, 'fbeta_train': 0.9642857142857143, 'fbeta_test': 0.9288537549407112}}\n",
      "{'LogisticRegression': {'train_time': 0.003156900405883789, 'pred_time': 0.0007328987121582031, 'acc_train': 0.9713774597495528, 'acc_test': 0.95, 'f1_train': 0.9581151832460733, 'f1_test': 0.9292929292929293, 'fbeta_train': 0.9611344537815126, 'fbeta_test': 0.9236947791164658}, 'SVC': {'train_time': 0.004296779632568359, 'pred_time': 0.0033578872680664062, 'acc_train': 0.9803220035778175, 'acc_test': 0.9571428571428572, 'f1_train': 0.9717223650385605, 'f1_test': 0.9400000000000001, 'fbeta_train': 0.9642857142857143, 'fbeta_test': 0.9288537549407112}, 'DecisionTreeClassifier': {'train_time': 0.0021719932556152344, 'pred_time': 0.0006048679351806641, 'acc_train': 1.0, 'acc_test': 0.9142857142857143, 'f1_train': 1.0, 'f1_test': 0.8723404255319148, 'fbeta_train': 1.0, 'fbeta_test': 0.8951965065502183}}\n",
      "{'LogisticRegression': {'train_time': 0.003156900405883789, 'pred_time': 0.0007328987121582031, 'acc_train': 0.9713774597495528, 'acc_test': 0.95, 'f1_train': 0.9581151832460733, 'f1_test': 0.9292929292929293, 'fbeta_train': 0.9611344537815126, 'fbeta_test': 0.9236947791164658}, 'SVC': {'train_time': 0.004296779632568359, 'pred_time': 0.0033578872680664062, 'acc_train': 0.9803220035778175, 'acc_test': 0.9571428571428572, 'f1_train': 0.9717223650385605, 'f1_test': 0.9400000000000001, 'fbeta_train': 0.9642857142857143, 'fbeta_test': 0.9288537549407112}, 'DecisionTreeClassifier': {'train_time': 0.0021719932556152344, 'pred_time': 0.0006048679351806641, 'acc_train': 1.0, 'acc_test': 0.9142857142857143, 'f1_train': 1.0, 'f1_test': 0.8723404255319148, 'fbeta_train': 1.0, 'fbeta_test': 0.8951965065502183}, 'AdaBoostClassifier': {'train_time': 0.1989140510559082, 'pred_time': 0.04190683364868164, 'acc_train': 0.9964221824686941, 'acc_test': 0.95, 'f1_train': 0.9947916666666666, 'f1_test': 0.9278350515463918, 'fbeta_train': 0.9947916666666665, 'fbeta_test': 0.9336099585062241}}\n",
      "{'LogisticRegression': {'train_time': 0.003156900405883789, 'pred_time': 0.0007328987121582031, 'acc_train': 0.9713774597495528, 'acc_test': 0.95, 'f1_train': 0.9581151832460733, 'f1_test': 0.9292929292929293, 'fbeta_train': 0.9611344537815126, 'fbeta_test': 0.9236947791164658}, 'SVC': {'train_time': 0.004296779632568359, 'pred_time': 0.0033578872680664062, 'acc_train': 0.9803220035778175, 'acc_test': 0.9571428571428572, 'f1_train': 0.9717223650385605, 'f1_test': 0.9400000000000001, 'fbeta_train': 0.9642857142857143, 'fbeta_test': 0.9288537549407112}, 'DecisionTreeClassifier': {'train_time': 0.0021719932556152344, 'pred_time': 0.0006048679351806641, 'acc_train': 1.0, 'acc_test': 0.9142857142857143, 'f1_train': 1.0, 'f1_test': 0.8723404255319148, 'fbeta_train': 1.0, 'fbeta_test': 0.8951965065502183}, 'AdaBoostClassifier': {'train_time': 0.1989140510559082, 'pred_time': 0.04190683364868164, 'acc_train': 0.9964221824686941, 'acc_test': 0.95, 'f1_train': 0.9947916666666666, 'f1_test': 0.9278350515463918, 'fbeta_train': 0.9947916666666665, 'fbeta_test': 0.9336099585062241}, 'XGBClassifier': {'train_time': 0.02981281280517578, 'pred_time': 0.004135847091674805, 'acc_train': 0.9928443649373881, 'acc_test': 0.95, 'f1_train': 0.9896373056994819, 'f1_test': 0.9306930693069307, 'fbeta_train': 0.9865702479338845, 'fbeta_test': 0.9143968871595329}}\n",
      "{'LogisticRegression': {'train_time': 0.003156900405883789, 'pred_time': 0.0007328987121582031, 'acc_train': 0.9713774597495528, 'acc_test': 0.95, 'f1_train': 0.9581151832460733, 'f1_test': 0.9292929292929293, 'fbeta_train': 0.9611344537815126, 'fbeta_test': 0.9236947791164658}, 'SVC': {'train_time': 0.004296779632568359, 'pred_time': 0.0033578872680664062, 'acc_train': 0.9803220035778175, 'acc_test': 0.9571428571428572, 'f1_train': 0.9717223650385605, 'f1_test': 0.9400000000000001, 'fbeta_train': 0.9642857142857143, 'fbeta_test': 0.9288537549407112}, 'DecisionTreeClassifier': {'train_time': 0.0021719932556152344, 'pred_time': 0.0006048679351806641, 'acc_train': 1.0, 'acc_test': 0.9142857142857143, 'f1_train': 1.0, 'f1_test': 0.8723404255319148, 'fbeta_train': 1.0, 'fbeta_test': 0.8951965065502183}, 'AdaBoostClassifier': {'train_time': 0.1989140510559082, 'pred_time': 0.04190683364868164, 'acc_train': 0.9964221824686941, 'acc_test': 0.95, 'f1_train': 0.9947916666666666, 'f1_test': 0.9278350515463918, 'fbeta_train': 0.9947916666666665, 'fbeta_test': 0.9336099585062241}, 'XGBClassifier': {'train_time': 0.02981281280517578, 'pred_time': 0.004135847091674805, 'acc_train': 0.9928443649373881, 'acc_test': 0.95, 'f1_train': 0.9896373056994819, 'f1_test': 0.9306930693069307, 'fbeta_train': 0.9865702479338845, 'fbeta_test': 0.9143968871595329}, 'RandomForestClassifier': {'train_time': 0.019238948822021484, 'pred_time': 0.003072977066040039, 'acc_train': 1.0, 'acc_test': 0.95, 'f1_train': 1.0, 'f1_test': 0.9292929292929293, 'fbeta_train': 1.0, 'fbeta_test': 0.9236947791164658}}\n"
     ]
    },
    {
     "name": "stderr",
     "output_type": "stream",
     "text": [
      "/anaconda3/envs/py36/lib/python3.6/site-packages/sklearn/preprocessing/label.py:151: DeprecationWarning: The truth value of an empty array is ambiguous. Returning False, but in future this will result in an error. Use `array.size > 0` to check that an array is not empty.\n",
      "  if diff:\n",
      "/anaconda3/envs/py36/lib/python3.6/site-packages/sklearn/preprocessing/label.py:151: DeprecationWarning: The truth value of an empty array is ambiguous. Returning False, but in future this will result in an error. Use `array.size > 0` to check that an array is not empty.\n",
      "  if diff:\n"
     ]
    }
   ],
   "source": [
    "results = {}\n",
    "for model in [m1,m2,m3,m4,m5,m6]:\n",
    "    model_name = model.__class__.__name__\n",
    "    results[model_name] = {}\n",
    "    results[model_name] = train_predict(model, X_train, y_train, X_test, y_test)\n",
    "    print(results)"
   ]
  },
  {
   "cell_type": "code",
   "execution_count": 154,
   "metadata": {},
   "outputs": [
    {
     "data": {
      "image/png": "[encoded data removed]",
      "text/plain": [
       "<Figure size 1440x720 with 8 Axes>"
      ]
     },
     "metadata": {
      "needs_background": "light"
     },
     "output_type": "display_data"
    }
   ],
   "source": [
    "fig, ax = plt.subplots(2, 4, figsize=(20,10))\n",
    "\n",
    "bar_width = 0.15\n",
    "colors = ['#A00000','#00A0A0','#00A000','#A0A0A0','#0A0A0A','#AA00AA']\n",
    "\n",
    "for k, learner in enumerate(results.keys()):\n",
    "        for j, metric in enumerate(['train_time','acc_train','f1_train','fbeta_train','pred_time','acc_test','f1_test','fbeta_test']):\n",
    "            for i in np.arange(4):                \n",
    "                ax[j//4, j%4].bar(i+k*bar_width,results[learner][metric],width=bar_width,color=colors[k])\n",
    "                \n",
    "ax[0, 0].set_title(\"Training Time\")\n",
    "ax[0, 1].set_title(\"Training Accuracy\")\n",
    "ax[0, 2].set_title(\"Training F1\")\n",
    "ax[0, 3].set_title(\"Training Fbeta\")\n",
    "ax[1, 0].set_title(\"Predicting Time\")\n",
    "ax[1, 1].set_title(\"Testing Accuracy\")\n",
    "ax[1, 2].set_title(\"Testing F1\")\n",
    "ax[1, 3].set_title(\"Training Fbeta\")\n",
    "\n",
    "patches = []\n",
    "for i, learner in enumerate(results.keys()):\n",
    "    patches.append(mpatches.Patch(color=colors[i],label=learner))\n",
    "    plt.legend(handles=patches,bbox_to_anchor=(-0.8,2.5),loc='upper right',borderaxespad=0,ncol=3,fontsize='x-large')"
   ]
  },
  {
   "cell_type": "code",
   "execution_count": 162,
   "metadata": {},
   "outputs": [],
   "source": [
    "def feature_plot(importances, X_train, y_train):\n",
    "    \n",
    "    # Display the five most important features\n",
    "    indices = np.argsort(importances)[::-1]\n",
    "    columns = X_train.columns.values[indices[:5]]\n",
    "    values = importances[indices][:5]\n",
    "\n",
    "    # Creat the plot\n",
    "    fig = plt.figure(figsize = (9,5))\n",
    "    plt.title(\"Normalized Weights for First Five Most Predictive Features\", fontsize = 16)\n",
    "    plt.bar(np.arange(5), values, width = 0.6, align=\"center\", color = '#00A000', \\\n",
    "          label = \"Feature Weight\")\n",
    "    plt.bar(np.arange(5) - 0.3, np.cumsum(values), width = 0.2, align = \"center\", color = '#00A0A0', \\\n",
    "          label = \"Cumulative Feature Weight\")\n",
    "    plt.xticks(np.arange(5), columns)\n",
    "    plt.xlim((-0.5, 4.5))\n",
    "    plt.ylabel(\"Weight\", fontsize = 12)\n",
    "    plt.xlabel(\"Feature\", fontsize = 12)\n",
    "    \n",
    "    plt.legend(loc = 'upper center')\n",
    "    plt.tight_layout()\n",
    "    plt.show()  "
   ]
  },
  {
   "cell_type": "code",
   "execution_count": 163,
   "metadata": {},
   "outputs": [
    {
     "data": {
      "image/png": "[encoded data removed]",
      "text/plain": [
       "<Figure size 648x360 with 1 Axes>"
      ]
     },
     "metadata": {
      "needs_background": "light"
     },
     "output_type": "display_data"
    }
   ],
   "source": [
    "model = RandomForestClassifier().fit(X_train, y_train)\n",
    "\n",
    "# TODO: Extract the feature importances using .feature_importances_ \n",
    "importances = model.feature_importances_\n",
    "\n",
    "# Plot\n",
    "feature_plot(importances, X_train, y_train)"
   ]
  },
  {
   "cell_type": "code",
   "execution_count": null,
   "metadata": {},
   "outputs": [],
   "source": []
  }
 ],
 "metadata": {
  "kernelspec": {
   "display_name": "Python 3",
   "language": "python",
   "name": "python3"
  },
  "language_info": {
   "codemirror_mode": {
    "name": "ipython",
    "version": 3
   },
   "file_extension": ".py",
   "mimetype": "text/x-python",
   "name": "python",
   "nbconvert_exporter": "python",
   "pygments_lexer": "ipython3",
   "version": "3.6.6"
  }
 },
 "nbformat": 4,
 "nbformat_minor": 2
}
